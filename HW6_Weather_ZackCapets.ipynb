{
 "cells": [
  {
   "cell_type": "markdown",
   "metadata": {},
   "source": [
    "# WeatherPy\n",
    "----\n",
    "\n",
    "#### Note\n",
    "* Instructions have been included for each segment. You do not have to follow them exactly, but they are included to help you think through the steps."
   ]
  },
  {
   "cell_type": "code",
   "execution_count": 227,
   "metadata": {
    "scrolled": true
   },
   "outputs": [],
   "source": [
    "# Dependencies and Setup\n",
    "import matplotlib.pyplot as plt\n",
    "import pandas as pd\n",
    "import numpy as np\n",
    "import requests\n",
    "import time\n",
    "from scipy.stats import linregress\n",
    "import json\n",
    "from pprint import pprint\n",
    "from citipy import citipy\n",
    "from config2 import weatherapikey\n",
    "\n",
    "\n",
    "# Incorporated citipy to determine city based on latitude and longitude\n",
    "\n",
    "# Output File (CSV)\n",
    "output_data_file = \"output_data/cities.csv\"\n",
    "\n",
    "# Range of latitudes and longitudes\n",
    "lat_range = (-90, 90)\n",
    "lng_range = (-180, 180)"
   ]
  },
  {
   "cell_type": "markdown",
   "metadata": {},
   "source": [
    "## Generate Cities List"
   ]
  },
  {
   "cell_type": "code",
   "execution_count": 28,
   "metadata": {},
   "outputs": [
    {
     "data": {
      "text/plain": [
       "616"
      ]
     },
     "execution_count": 28,
     "metadata": {},
     "output_type": "execute_result"
    }
   ],
   "source": [
    "# List for holding lat_lngs and cities\n",
    "lat_lngs = []\n",
    "cities = []\n",
    "\n",
    "# Create a set of random lat and lng combinations\n",
    "lats = np.random.uniform(low=-90.000, high=90.000, size=1500)\n",
    "lngs = np.random.uniform(low=-180.000, high=180.000, size=1500)\n",
    "lat_lngs = zip(lats, lngs)\n",
    "\n",
    "# Identify nearest city for each lat, lng combination\n",
    "for lat_lng in lat_lngs:\n",
    "    city = citipy.nearest_city(lat_lng[0], lat_lng[1]).city_name\n",
    "    \n",
    "    # If the city is unique, then add it to a our cities list\n",
    "    if city not in cities:\n",
    "        cities.append(city)\n",
    "\n",
    "# Print the city count to confirm sufficient count\n",
    "len(cities)\n"
   ]
  },
  {
   "cell_type": "markdown",
   "metadata": {},
   "source": [
    "### Perform API Calls\n",
    "* Perform a weather check on each city using a series of successive API calls.\n",
    "* Include a print log of each city as it'sbeing processed (with the city number and city name).\n"
   ]
  },
  {
   "cell_type": "code",
   "execution_count": 82,
   "metadata": {},
   "outputs": [
    {
     "name": "stdout",
     "output_type": "stream",
     "text": [
      "{'base': 'stations',\n",
      " 'clouds': {'all': 100},\n",
      " 'cod': 200,\n",
      " 'coord': {'lat': 51.51, 'lon': -0.13},\n",
      " 'dt': 1579991451,\n",
      " 'id': 2643743,\n",
      " 'main': {'feels_like': 36.55,\n",
      "          'humidity': 96,\n",
      "          'pressure': 1015,\n",
      "          'temp': 42.39,\n",
      "          'temp_max': 45,\n",
      "          'temp_min': 39.99},\n",
      " 'name': 'London',\n",
      " 'sys': {'country': 'GB',\n",
      "         'id': 2019646,\n",
      "         'sunrise': 1579938572,\n",
      "         'sunset': 1579970134,\n",
      "         'type': 3},\n",
      " 'timezone': 0,\n",
      " 'weather': [{'description': 'overcast clouds',\n",
      "              'icon': '04n',\n",
      "              'id': 804,\n",
      "              'main': 'Clouds'}],\n",
      " 'wind': {'deg': 174, 'speed': 6.87}}\n"
     ]
    }
   ],
   "source": [
    "url = \"http://api.openweathermap.org/data/2.5/weather?\"\n",
    "query_url = f\"{url}appid={weatherapikey}&units={units}&q=\"\n",
    "\n",
    "cityweather = requests.get(query_url + \"London\").json()\n",
    "pprint(cityweather)"
   ]
  },
  {
   "cell_type": "code",
   "execution_count": 98,
   "metadata": {},
   "outputs": [
    {
     "name": "stdout",
     "output_type": "stream",
     "text": [
      "Processing zyryanka. #1 of 617\n",
      "Processing mys shmidta. #2 of 617\n",
      "Skipping mys shmidta due to errors.\n",
      "Processing hobart. #3 of 617\n",
      "Processing amderma. #4 of 617\n",
      "Skipping amderma due to errors.\n",
      "Processing bredasdorp. #5 of 617\n",
      "Processing vaini. #6 of 617\n",
      "Processing jamestown. #7 of 617\n",
      "Processing balimo. #8 of 617\n",
      "Skipping balimo due to errors.\n",
      "Processing rikitea. #9 of 617\n",
      "Processing barrow. #10 of 617\n",
      "Processing kapaa. #11 of 617\n",
      "Processing chokurdakh. #12 of 617\n",
      "Processing laurel. #13 of 617\n",
      "Processing khatanga. #14 of 617\n",
      "Processing dingle. #15 of 617\n",
      "Processing brae. #16 of 617\n",
      "Processing nizhneyansk. #17 of 617\n",
      "Skipping nizhneyansk due to errors.\n",
      "Processing tasiilaq. #18 of 617\n",
      "Processing albany. #19 of 617\n",
      "Processing castro. #20 of 617\n",
      "Processing saint-philippe. #21 of 617\n",
      "Processing belushya guba. #22 of 617\n",
      "Skipping belushya guba due to errors.\n",
      "Processing fortuna. #23 of 617\n",
      "Processing vostok. #24 of 617\n",
      "Processing esperance. #25 of 617\n",
      "Processing ushuaia. #26 of 617\n",
      "Processing iqaluit. #27 of 617\n",
      "Processing thap than. #28 of 617\n",
      "Processing kodiak. #29 of 617\n",
      "Processing busselton. #30 of 617\n",
      "Processing punta arenas. #31 of 617\n",
      "Processing zhenlai. #32 of 617\n",
      "Processing wahiawa. #33 of 617\n",
      "Processing blind river. #34 of 617\n",
      "Processing aksu. #35 of 617\n",
      "Processing carnarvon. #36 of 617\n",
      "Processing sakakah. #37 of 617\n",
      "Processing edremit. #38 of 617\n",
      "Processing sao felix do xingu. #39 of 617\n",
      "Processing port macquarie. #40 of 617\n",
      "Processing san cristobal. #41 of 617\n",
      "Processing coahuayana. #42 of 617\n",
      "Processing athy. #43 of 617\n",
      "Processing hithadhoo. #44 of 617\n",
      "Processing teya. #45 of 617\n",
      "Processing bethel. #46 of 617\n",
      "Processing nipawin. #47 of 617\n",
      "Processing phan thiet. #48 of 617\n",
      "Processing mahebourg. #49 of 617\n",
      "Processing clyde river. #50 of 617\n",
      "Processing tuktoyaktuk. #51 of 617\n",
      "Processing dikson. #52 of 617\n",
      "Processing nouadhibou. #53 of 617\n",
      "Processing port alfred. #54 of 617\n",
      "Processing ankpa. #55 of 617\n",
      "Processing atar. #56 of 617\n",
      "Processing yumen. #57 of 617\n",
      "Processing vaxjo. #58 of 617\n",
      "Processing lavrentiya. #59 of 617\n",
      "Processing namibe. #60 of 617\n",
      "Processing shimoda. #61 of 617\n",
      "Processing itarema. #62 of 617\n",
      "Processing nikolskoye. #63 of 617\n",
      "Processing ribeira grande. #64 of 617\n",
      "Processing ocean city. #65 of 617\n",
      "Processing gat. #66 of 617\n",
      "Processing upernavik. #67 of 617\n",
      "Processing lishui. #68 of 617\n",
      "Processing samusu. #69 of 617\n",
      "Skipping samusu due to errors.\n",
      "Processing alyangula. #70 of 617\n",
      "Processing labytnangi. #71 of 617\n",
      "Processing tiksi. #72 of 617\n",
      "Processing barentsburg. #73 of 617\n",
      "Skipping barentsburg due to errors.\n",
      "Processing maromitsa. #74 of 617\n",
      "Processing udachnyy. #75 of 617\n",
      "Processing tiznit. #76 of 617\n",
      "Processing nanortalik. #77 of 617\n",
      "Processing georgetown. #78 of 617\n",
      "Processing tecoanapa. #79 of 617\n",
      "Processing lorengau. #80 of 617\n",
      "Processing hilo. #81 of 617\n",
      "Processing vaitupu. #82 of 617\n",
      "Skipping vaitupu due to errors.\n",
      "Processing wanning. #83 of 617\n",
      "Processing bluff. #84 of 617\n",
      "Processing flin flon. #85 of 617\n",
      "Processing new norfolk. #86 of 617\n",
      "Processing cayenne. #87 of 617\n",
      "Processing pringsewu. #88 of 617\n",
      "Processing karmaskaly. #89 of 617\n",
      "Processing kirakira. #90 of 617\n",
      "Processing puerto ayora. #91 of 617\n",
      "Processing batticaloa. #92 of 617\n",
      "Processing mount isa. #93 of 617\n",
      "Processing hofn. #94 of 617\n",
      "Processing kahului. #95 of 617\n",
      "Processing hermanus. #96 of 617\n",
      "Processing byron bay. #97 of 617\n",
      "Processing illoqqortoormiut. #98 of 617\n",
      "Skipping illoqqortoormiut due to errors.\n",
      "Processing qaanaaq. #99 of 617\n",
      "Processing hervey bay. #100 of 617\n",
      "Processing arraial do cabo. #101 of 617\n",
      "Processing avarua. #102 of 617\n",
      "Processing labuhan. #103 of 617\n",
      "Processing borzya. #104 of 617\n",
      "Processing husavik. #105 of 617\n",
      "Processing arona. #106 of 617\n",
      "Processing chuy. #107 of 617\n",
      "Processing tres arroyos. #108 of 617\n",
      "Processing coquimbo. #109 of 617\n",
      "Processing taolanaro. #110 of 617\n",
      "Skipping taolanaro due to errors.\n",
      "Processing miles city. #111 of 617\n",
      "Processing cidreira. #112 of 617\n",
      "Processing belyy yar. #113 of 617\n",
      "Processing marawi. #114 of 617\n",
      "Processing mataura. #115 of 617\n",
      "Processing mumford. #116 of 617\n",
      "Processing qaqortoq. #117 of 617\n",
      "Processing celestun. #118 of 617\n",
      "Processing anadyr. #119 of 617\n",
      "Processing karratha. #120 of 617\n",
      "Processing bengkulu. #121 of 617\n",
      "Processing ancud. #122 of 617\n",
      "Processing kaabong. #123 of 617\n",
      "Processing pokhara. #124 of 617\n",
      "Processing upata. #125 of 617\n",
      "Processing port elizabeth. #126 of 617\n",
      "Processing san jose. #127 of 617\n",
      "Processing saldanha. #128 of 617\n",
      "Processing sinnamary. #129 of 617\n",
      "Processing yellowknife. #130 of 617\n",
      "Processing fare. #131 of 617\n",
      "Processing ratnagiri. #132 of 617\n",
      "Processing lebu. #133 of 617\n",
      "Processing caravelas. #134 of 617\n",
      "Processing las vegas. #135 of 617\n",
      "Processing siderno. #136 of 617\n",
      "Processing necochea. #137 of 617\n",
      "Processing pevek. #138 of 617\n",
      "Processing greencastle. #139 of 617\n",
      "Processing sao joao da barra. #140 of 617\n",
      "Processing tateyama. #141 of 617\n",
      "Processing cape town. #142 of 617\n",
      "Processing butaritari. #143 of 617\n",
      "Processing laguna. #144 of 617\n",
      "Processing rio gallegos. #145 of 617\n",
      "Processing narsaq. #146 of 617\n",
      "Processing takhatpur. #147 of 617\n",
      "Processing tura. #148 of 617\n",
      "Processing kamenka. #149 of 617\n",
      "Processing ust-kamchatsk. #150 of 617\n",
      "Skipping ust-kamchatsk due to errors.\n",
      "Processing cockburn town. #151 of 617\n",
      "Processing domna. #152 of 617\n",
      "Processing berlevag. #153 of 617\n",
      "Processing ambilobe. #154 of 617\n",
      "Processing broome. #155 of 617\n",
      "Processing ponta do sol. #156 of 617\n",
      "Processing kavaratti. #157 of 617\n",
      "Processing katsuura. #158 of 617\n",
      "Processing muroto. #159 of 617\n",
      "Processing cherskiy. #160 of 617\n",
      "Processing east london. #161 of 617\n",
      "Processing general roca. #162 of 617\n",
      "Processing havelock. #163 of 617\n",
      "Processing norman wells. #164 of 617\n",
      "Processing leningradskiy. #165 of 617\n",
      "Processing attawapiskat. #166 of 617\n",
      "Skipping attawapiskat due to errors.\n",
      "Processing kawalu. #167 of 617\n",
      "Processing taltal. #168 of 617\n",
      "Processing cabo san lucas. #169 of 617\n",
      "Processing atuona. #170 of 617\n",
      "Processing hasaki. #171 of 617\n",
      "Processing bulawayo. #172 of 617\n",
      "Processing avera. #173 of 617\n",
      "Processing maues. #174 of 617\n",
      "Processing khandbari. #175 of 617\n",
      "Processing molokovo. #176 of 617\n",
      "Processing asau. #177 of 617\n",
      "Processing compuertas. #178 of 617\n",
      "Processing athabasca. #179 of 617\n",
      "Processing alotau. #180 of 617\n",
      "Skipping alotau due to errors.\n",
      "Processing poum. #181 of 617\n",
      "Processing saint anthony. #182 of 617\n",
      "Processing luziania. #183 of 617\n",
      "Processing ola. #184 of 617\n",
      "Processing hit. #185 of 617\n",
      "Processing manuk mangkaw. #186 of 617\n",
      "Processing ust-omchug. #187 of 617\n",
      "Processing kanallakion. #188 of 617\n",
      "Skipping kanallakion due to errors.\n",
      "Processing kantang. #189 of 617\n",
      "Processing troitskoye. #190 of 617\n",
      "Processing noumea. #191 of 617\n",
      "Processing saint-augustin. #192 of 617\n",
      "Processing teshie. #193 of 617\n",
      "Processing taldan. #194 of 617\n",
      "Processing chiria. #195 of 617\n",
      "Processing lahaina. #196 of 617\n",
      "Processing boyabat. #197 of 617\n",
      "Processing saint george. #198 of 617\n",
      "Processing inhambane. #199 of 617\n",
      "Processing micheweni. #200 of 617\n",
      "Processing mehamn. #201 of 617\n",
      "Processing skibbereen. #202 of 617\n",
      "Processing airai. #203 of 617\n",
      "Processing ranong. #204 of 617\n",
      "Processing jinchang. #205 of 617\n",
      "Processing baisha. #206 of 617\n",
      "Processing skalistyy. #207 of 617\n",
      "Skipping skalistyy due to errors.\n",
      "Processing grand river south east. #208 of 617\n",
      "Skipping grand river south east due to errors.\n",
      "Processing kamiiso. #209 of 617\n",
      "Processing port hardy. #210 of 617\n",
      "Processing henties bay. #211 of 617\n",
      "Processing belmonte. #212 of 617\n",
      "Processing abaza. #213 of 617\n",
      "Processing vammala. #214 of 617\n",
      "Processing souillac. #215 of 617\n",
      "Processing harlingen. #216 of 617\n",
      "Processing ovalle. #217 of 617\n",
      "Processing onega. #218 of 617\n",
      "Processing alofi. #219 of 617\n",
      "Processing thompson. #220 of 617\n",
      "Processing nioki. #221 of 617\n",
      "Processing doha. #222 of 617\n",
      "Processing bambous virieux. #223 of 617\n",
      "Processing upington. #224 of 617\n",
      "Processing pittsfield. #225 of 617\n",
      "Processing tumannyy. #226 of 617\n",
      "Skipping tumannyy due to errors.\n",
      "Processing sistranda. #227 of 617\n",
      "Processing saint-francois. #228 of 617\n",
      "Processing mildura. #229 of 617\n",
      "Processing harbour breton. #230 of 617\n",
      "Processing quesnel. #231 of 617\n",
      "Processing namatanai. #232 of 617\n",
      "Processing sentyabrskiy. #233 of 617\n",
      "Skipping sentyabrskiy due to errors.\n",
      "Processing kirando. #234 of 617\n"
     ]
    },
    {
     "name": "stdout",
     "output_type": "stream",
     "text": [
      "Processing margate. #235 of 617\n",
      "Processing severo-kurilsk. #236 of 617\n",
      "Processing camacha. #237 of 617\n",
      "Processing muros. #238 of 617\n",
      "Processing san patricio. #239 of 617\n",
      "Processing salalah. #240 of 617\n",
      "Processing sorvag. #241 of 617\n",
      "Skipping sorvag due to errors.\n",
      "Processing innisfail. #242 of 617\n",
      "Processing carauari. #243 of 617\n",
      "Processing stornoway. #244 of 617\n",
      "Processing shenjiamen. #245 of 617\n",
      "Processing brownwood. #246 of 617\n",
      "Processing marrakesh. #247 of 617\n",
      "Processing santiago. #248 of 617\n",
      "Processing santa cruz. #249 of 617\n",
      "Processing hami. #250 of 617\n",
      "Processing mar del plata. #251 of 617\n",
      "Processing adamantina. #252 of 617\n",
      "Processing yamaga. #253 of 617\n",
      "Processing jiangyou. #254 of 617\n",
      "Processing vanimo. #255 of 617\n",
      "Processing palabuhanratu. #256 of 617\n",
      "Skipping palabuhanratu due to errors.\n",
      "Processing sao filipe. #257 of 617\n",
      "Processing aasiaat. #258 of 617\n",
      "Processing biak. #259 of 617\n",
      "Processing butterworth. #260 of 617\n",
      "Processing tuatapere. #261 of 617\n",
      "Processing kachikau. #262 of 617\n",
      "Skipping kachikau due to errors.\n",
      "Processing lodja. #263 of 617\n",
      "Processing igra. #264 of 617\n",
      "Processing great yarmouth. #265 of 617\n",
      "Processing raga. #266 of 617\n",
      "Processing joshimath. #267 of 617\n",
      "Processing evanston. #268 of 617\n",
      "Processing santiago del estero. #269 of 617\n",
      "Processing sorong. #270 of 617\n",
      "Processing faya. #271 of 617\n",
      "Processing nome. #272 of 617\n",
      "Processing loandjili. #273 of 617\n",
      "Processing pisco. #274 of 617\n",
      "Processing launceston. #275 of 617\n",
      "Processing huilong. #276 of 617\n",
      "Processing sola. #277 of 617\n",
      "Processing ondorhaan. #278 of 617\n",
      "Skipping ondorhaan due to errors.\n",
      "Processing kidal. #279 of 617\n",
      "Processing sibut. #280 of 617\n",
      "Processing vao. #281 of 617\n",
      "Processing sfantu gheorghe. #282 of 617\n",
      "Processing gisborne. #283 of 617\n",
      "Processing yorosso. #284 of 617\n",
      "Processing iranshahr. #285 of 617\n",
      "Processing kaitangata. #286 of 617\n",
      "Processing kieta. #287 of 617\n",
      "Processing cesena. #288 of 617\n",
      "Processing igrim. #289 of 617\n",
      "Processing bur gabo. #290 of 617\n",
      "Skipping bur gabo due to errors.\n",
      "Processing penha. #291 of 617\n",
      "Processing tawkar. #292 of 617\n",
      "Skipping tawkar due to errors.\n",
      "Processing dublin. #293 of 617\n",
      "Processing anderson. #294 of 617\n",
      "Processing suntar. #295 of 617\n",
      "Processing birjand. #296 of 617\n",
      "Processing victoria. #297 of 617\n",
      "Processing sitka. #298 of 617\n",
      "Processing ejura. #299 of 617\n",
      "Processing sioux lookout. #300 of 617\n",
      "Processing kuche. #301 of 617\n",
      "Skipping kuche due to errors.\n",
      "Processing la ronge. #302 of 617\n",
      "Processing guerrero negro. #303 of 617\n",
      "Processing elko. #304 of 617\n",
      "Processing zhaozhou. #305 of 617\n",
      "Processing abu kamal. #306 of 617\n",
      "Processing port-cartier. #307 of 617\n",
      "Processing cabedelo. #308 of 617\n",
      "Processing sechura. #309 of 617\n",
      "Processing fairbanks. #310 of 617\n",
      "Processing tulun. #311 of 617\n",
      "Processing itainopolis. #312 of 617\n",
      "Processing rosarito. #313 of 617\n",
      "Processing srednekolymsk. #314 of 617\n",
      "Processing kandrian. #315 of 617\n",
      "Processing pangnirtung. #316 of 617\n",
      "Processing tir pol. #317 of 617\n",
      "Skipping tir pol due to errors.\n",
      "Processing waingapu. #318 of 617\n",
      "Processing thinadhoo. #319 of 617\n",
      "Processing faanui. #320 of 617\n",
      "Processing batagay. #321 of 617\n",
      "Processing port lincoln. #322 of 617\n",
      "Processing batagay-alyta. #323 of 617\n",
      "Processing dudinka. #324 of 617\n",
      "Processing ganta. #325 of 617\n",
      "Processing san pedro. #326 of 617\n",
      "Processing andenes. #327 of 617\n",
      "Processing ternate. #328 of 617\n",
      "Processing maraba. #329 of 617\n",
      "Processing evensk. #330 of 617\n",
      "Processing majene. #331 of 617\n",
      "Processing dzerzhinsk. #332 of 617\n",
      "Processing saleaula. #333 of 617\n",
      "Skipping saleaula due to errors.\n",
      "Processing baglan. #334 of 617\n",
      "Processing pordim. #335 of 617\n",
      "Processing sibu. #336 of 617\n",
      "Processing najran. #337 of 617\n",
      "Processing george. #338 of 617\n",
      "Processing cheuskiny. #339 of 617\n",
      "Skipping cheuskiny due to errors.\n",
      "Processing saryshagan. #340 of 617\n",
      "Skipping saryshagan due to errors.\n",
      "Processing pitimbu. #341 of 617\n",
      "Processing araouane. #342 of 617\n",
      "Processing saint-paul. #343 of 617\n",
      "Processing vila velha. #344 of 617\n",
      "Processing iquira. #345 of 617\n",
      "Processing goderich. #346 of 617\n",
      "Processing vytegra. #347 of 617\n",
      "Processing yuci. #348 of 617\n",
      "Processing uray. #349 of 617\n",
      "Processing grindavik. #350 of 617\n",
      "Processing okha. #351 of 617\n",
      "Processing ballina. #352 of 617\n",
      "Processing flinders. #353 of 617\n",
      "Processing constitucion. #354 of 617\n",
      "Processing zenzeli. #355 of 617\n",
      "Processing yenangyaung. #356 of 617\n",
      "Processing garowe. #357 of 617\n",
      "Processing sumenep. #358 of 617\n",
      "Processing quatre cocos. #359 of 617\n",
      "Processing inuvik. #360 of 617\n",
      "Processing la asuncion. #361 of 617\n",
      "Processing tsihombe. #362 of 617\n",
      "Skipping tsihombe due to errors.\n",
      "Processing kuytun. #363 of 617\n",
      "Processing isangel. #364 of 617\n",
      "Processing saskylakh. #365 of 617\n",
      "Processing baruun-urt. #366 of 617\n",
      "Processing dumas. #367 of 617\n",
      "Processing hutchinson. #368 of 617\n",
      "Processing luderitz. #369 of 617\n",
      "Processing garoua boulai. #370 of 617\n",
      "Processing norman. #371 of 617\n",
      "Processing chumikan. #372 of 617\n",
      "Processing marcona. #373 of 617\n",
      "Skipping marcona due to errors.\n",
      "Processing baturaja. #374 of 617\n",
      "Processing mitake. #375 of 617\n",
      "Processing panaba. #376 of 617\n",
      "Processing halifax. #377 of 617\n",
      "Processing palmer. #378 of 617\n",
      "Processing sumbe. #379 of 617\n",
      "Processing ulladulla. #380 of 617\n",
      "Processing puri. #381 of 617\n",
      "Processing diapaga. #382 of 617\n",
      "Processing kulhudhuffushi. #383 of 617\n",
      "Processing talnakh. #384 of 617\n",
      "Processing burnie. #385 of 617\n",
      "Processing morlaix. #386 of 617\n",
      "Processing antalaha. #387 of 617\n",
      "Processing khao yoi. #388 of 617\n",
      "Processing korla. #389 of 617\n",
      "Processing luanda. #390 of 617\n",
      "Processing kalmar. #391 of 617\n",
      "Processing touros. #392 of 617\n",
      "Processing chapais. #393 of 617\n",
      "Processing sivaki. #394 of 617\n",
      "Processing high level. #395 of 617\n",
      "Processing nimaparha. #396 of 617\n",
      "Processing port huron. #397 of 617\n",
      "Processing maracaju. #398 of 617\n",
      "Processing gigmoto. #399 of 617\n",
      "Processing longyearbyen. #400 of 617\n",
      "Processing karaul. #401 of 617\n",
      "Skipping karaul due to errors.\n",
      "Processing ponta delgada. #402 of 617\n",
      "Processing kortkeros. #403 of 617\n",
      "Processing neuquen. #404 of 617\n",
      "Processing anchorage. #405 of 617\n",
      "Processing tomatlan. #406 of 617\n",
      "Processing padang. #407 of 617\n",
      "Processing tubmanburg. #408 of 617\n",
      "Processing erdenet. #409 of 617\n",
      "Processing tholey. #410 of 617\n",
      "Processing tambura. #411 of 617\n",
      "Processing jefferson city. #412 of 617\n",
      "Processing bathsheba. #413 of 617\n",
      "Processing cozumel. #414 of 617\n",
      "Processing tsabong. #415 of 617\n",
      "Processing mansfield. #416 of 617\n",
      "Processing zima. #417 of 617\n",
      "Processing mwaro. #418 of 617\n",
      "Processing aklavik. #419 of 617\n",
      "Processing ostrovnoy. #420 of 617\n",
      "Processing thiruvananthapuram. #421 of 617\n",
      "Processing myanaung. #422 of 617\n",
      "Processing broken hill. #423 of 617\n",
      "Processing lompoc. #424 of 617\n",
      "Processing jalu. #425 of 617\n",
      "Processing rawlins. #426 of 617\n",
      "Processing shingu. #427 of 617\n",
      "Processing tarpa. #428 of 617\n",
      "Processing acapulco. #429 of 617\n",
      "Processing kaithal. #430 of 617\n",
      "Processing chabahar. #431 of 617\n",
      "Processing rabo de peixe. #432 of 617\n",
      "Processing hong gai. #433 of 617\n",
      "Processing torzhok. #434 of 617\n",
      "Processing ilulissat. #435 of 617\n",
      "Processing konevo. #436 of 617\n",
      "Processing umzimvubu. #437 of 617\n",
      "Skipping umzimvubu due to errors.\n",
      "Processing bafoulabe. #438 of 617\n",
      "Processing tazovskiy. #439 of 617\n",
      "Processing port blair. #440 of 617\n",
      "Processing elliot. #441 of 617\n",
      "Processing reconquista. #442 of 617\n",
      "Processing boyle. #443 of 617\n",
      "Processing lasa. #444 of 617\n",
      "Processing severo-yeniseyskiy. #445 of 617\n",
      "Processing deputatskiy. #446 of 617\n",
      "Processing monterey. #447 of 617\n",
      "Processing priiskovyy. #448 of 617\n",
      "Processing nemuro. #449 of 617\n",
      "Processing tucuman. #450 of 617\n",
      "Processing le moule. #451 of 617\n",
      "Processing raudeberg. #452 of 617\n",
      "Processing capao da canoa. #453 of 617\n",
      "Processing geraldton. #454 of 617\n",
      "Processing lukovetskiy. #455 of 617\n",
      "Processing forestville. #456 of 617\n",
      "Processing puerto del rosario. #457 of 617\n",
      "Processing puerto madero. #458 of 617\n",
      "Processing oyama. #459 of 617\n",
      "Processing letnyaya stavka. #460 of 617\n",
      "Processing ejido. #461 of 617\n",
      "Processing praya. #462 of 617\n",
      "Processing pecos. #463 of 617\n",
      "Processing oyem. #464 of 617\n",
      "Processing rafai. #465 of 617\n",
      "Processing santa maria. #466 of 617\n",
      "Processing sisimiut. #467 of 617\n",
      "Processing torbay. #468 of 617\n",
      "Processing khandyga. #469 of 617\n",
      "Processing port shepstone. #470 of 617\n"
     ]
    },
    {
     "name": "stdout",
     "output_type": "stream",
     "text": [
      "Processing susanville. #471 of 617\n",
      "Processing christchurch. #472 of 617\n",
      "Processing kyaiklat. #473 of 617\n",
      "Processing sept-iles. #474 of 617\n",
      "Processing paveh. #475 of 617\n",
      "Processing dinguiraye. #476 of 617\n",
      "Processing rawson. #477 of 617\n",
      "Processing montgomery. #478 of 617\n",
      "Processing rudnogorsk. #479 of 617\n",
      "Processing aykhal. #480 of 617\n",
      "Processing dongobesh. #481 of 617\n",
      "Processing teknaf. #482 of 617\n",
      "Processing jiuquan. #483 of 617\n",
      "Processing abay. #484 of 617\n",
      "Processing abu jubayhah. #485 of 617\n",
      "Skipping abu jubayhah due to errors.\n",
      "Processing tabuk. #486 of 617\n",
      "Processing jiwani. #487 of 617\n",
      "Processing daly city. #488 of 617\n",
      "Processing urdzhar. #489 of 617\n",
      "Skipping urdzhar due to errors.\n",
      "Processing the valley. #490 of 617\n",
      "Processing curup. #491 of 617\n",
      "Processing atkarsk. #492 of 617\n",
      "Processing paita. #493 of 617\n",
      "Processing assiniboia. #494 of 617\n",
      "Processing chicama. #495 of 617\n",
      "Processing nelson. #496 of 617\n",
      "Processing nador. #497 of 617\n",
      "Processing snasa. #498 of 617\n",
      "Processing kenai. #499 of 617\n",
      "Processing komsomolskiy. #500 of 617\n",
      "Processing merauke. #501 of 617\n",
      "Processing makakilo city. #502 of 617\n",
      "Processing ushumun. #503 of 617\n",
      "Processing tukrah. #504 of 617\n",
      "Processing nizhniy mamon. #505 of 617\n",
      "Processing djambala. #506 of 617\n",
      "Processing kruisfontein. #507 of 617\n",
      "Processing parang. #508 of 617\n",
      "Processing maniitsoq. #509 of 617\n",
      "Processing changji. #510 of 617\n",
      "Processing haines junction. #511 of 617\n",
      "Processing narrabri. #512 of 617\n",
      "Processing soverato. #513 of 617\n",
      "Processing kutum. #514 of 617\n",
      "Processing andijon. #515 of 617\n",
      "Processing hirara. #516 of 617\n",
      "Processing praia da vitoria. #517 of 617\n",
      "Processing auki. #518 of 617\n",
      "Processing tainan. #519 of 617\n",
      "Processing peniche. #520 of 617\n",
      "Processing plouzane. #521 of 617\n",
      "Processing kununurra. #522 of 617\n",
      "Processing barahona. #523 of 617\n",
      "Processing labelle. #524 of 617\n",
      "Processing fuyu. #525 of 617\n",
      "Processing kyabram. #526 of 617\n",
      "Processing gusino. #527 of 617\n",
      "Processing kalaleh. #528 of 617\n",
      "Processing trairi. #529 of 617\n",
      "Processing macas. #530 of 617\n",
      "Processing seoul. #531 of 617\n",
      "Processing port-gentil. #532 of 617\n",
      "Processing bud. #533 of 617\n",
      "Processing kavieng. #534 of 617\n",
      "Processing crato. #535 of 617\n",
      "Processing gombong. #536 of 617\n",
      "Processing odienne. #537 of 617\n",
      "Processing pemba. #538 of 617\n",
      "Processing beaune. #539 of 617\n",
      "Processing vagur. #540 of 617\n",
      "Processing hambantota. #541 of 617\n",
      "Processing naantali. #542 of 617\n",
      "Processing alice springs. #543 of 617\n",
      "Processing ouango. #544 of 617\n",
      "Processing singaraja. #545 of 617\n",
      "Processing mount gambier. #546 of 617\n",
      "Processing fuglebjerg. #547 of 617\n",
      "Processing morgan city. #548 of 617\n",
      "Processing kegayli. #549 of 617\n",
      "Skipping kegayli due to errors.\n",
      "Processing richards bay. #550 of 617\n",
      "Processing hay river. #551 of 617\n",
      "Processing tual. #552 of 617\n",
      "Processing sawtell. #553 of 617\n",
      "Processing capitan bado. #554 of 617\n",
      "Processing asyut. #555 of 617\n",
      "Processing churachandpur. #556 of 617\n",
      "Processing tommot. #557 of 617\n",
      "Processing hare bay. #558 of 617\n",
      "Processing port augusta. #559 of 617\n",
      "Processing oktyabrskoye. #560 of 617\n",
      "Processing calama. #561 of 617\n",
      "Processing rabaul. #562 of 617\n",
      "Processing lakes entrance. #563 of 617\n",
      "Processing santa lucia. #564 of 617\n",
      "Processing maceio. #565 of 617\n",
      "Processing nelson bay. #566 of 617\n",
      "Processing thunder bay. #567 of 617\n",
      "Processing kourou. #568 of 617\n",
      "Processing molteno. #569 of 617\n",
      "Processing vanavara. #570 of 617\n",
      "Processing ossora. #571 of 617\n",
      "Processing champerico. #572 of 617\n",
      "Processing yulara. #573 of 617\n",
      "Processing takhtamygda. #574 of 617\n",
      "Processing zhuhai. #575 of 617\n",
      "Processing mendi. #576 of 617\n",
      "Processing itamaraju. #577 of 617\n",
      "Processing gebre guracha. #578 of 617\n",
      "Processing kara. #579 of 617\n",
      "Processing ciudad bolivar. #580 of 617\n",
      "Processing tabiauea. #581 of 617\n",
      "Skipping tabiauea due to errors.\n",
      "Processing carnaiba. #582 of 617\n",
      "Processing grand centre. #583 of 617\n",
      "Skipping grand centre due to errors.\n",
      "Processing tungkang. #584 of 617\n",
      "Skipping tungkang due to errors.\n",
      "Processing ojinaga. #585 of 617\n",
      "Processing lodwar. #586 of 617\n",
      "Processing pacific grove. #587 of 617\n",
      "Processing ridgecrest. #588 of 617\n",
      "Processing zeya. #589 of 617\n",
      "Processing roma. #590 of 617\n",
      "Processing uusikaupunki. #591 of 617\n",
      "Processing tabou. #592 of 617\n",
      "Processing kuusamo. #593 of 617\n",
      "Processing kaduqli. #594 of 617\n",
      "Processing yenagoa. #595 of 617\n",
      "Processing klaksvik. #596 of 617\n",
      "Processing altamont. #597 of 617\n",
      "Processing dickinson. #598 of 617\n",
      "Processing jerantut. #599 of 617\n",
      "Processing state college. #600 of 617\n",
      "Processing carballo. #601 of 617\n",
      "Processing turayf. #602 of 617\n",
      "Processing bakchar. #603 of 617\n",
      "Processing palauig. #604 of 617\n",
      "Processing albina. #605 of 617\n",
      "Processing zyryanovsk. #606 of 617\n",
      "Processing coari. #607 of 617\n",
      "Processing porto franco. #608 of 617\n",
      "Processing bernau. #609 of 617\n",
      "Processing maykain. #610 of 617\n",
      "Skipping maykain due to errors.\n",
      "Processing brigantine. #611 of 617\n",
      "Processing maarianhamina. #612 of 617\n",
      "Processing kamaishi. #613 of 617\n",
      "Processing bubaque. #614 of 617\n",
      "Processing punto fijo. #615 of 617\n",
      "Processing hansot. #616 of 617\n"
     ]
    }
   ],
   "source": [
    "#set up a bunch of empty lists to hold values from our json response\n",
    "name = []\n",
    "temp = []\n",
    "lat = []\n",
    "long = []\n",
    "clouds = []\n",
    "hum = []\n",
    "wind_s = []\n",
    "wind_a = []\n",
    "\n",
    "url = \"http://api.openweathermap.org/data/2.5/weather?\"\n",
    "units = \"imperial\"\n",
    "\n",
    "i = 0\n",
    "for city in cities:\n",
    "    print(f'Processing {city}. #{i+1} of {len(cities)+1}')\n",
    "    i += 1\n",
    "    # Build query URL\n",
    "    query_url = f\"{url}appid={weatherapikey}&units={units}&q=\"\n",
    "    cityweather = requests.get(query_url + city).json()\n",
    "    #metrics to capture from the response\n",
    "    try:\n",
    "        name.append(cityweather[\"name\"])\n",
    "        lat.append(cityweather[\"coord\"][\"lat\"])\n",
    "        long.append(cityweather[\"coord\"][\"lon\"])\n",
    "        temp.append(cityweather[\"main\"][\"temp\"])\n",
    "        clouds.append(cityweather[\"clouds\"][\"all\"])\n",
    "        hum.append(cityweather[\"main\"][\"humidity\"])\n",
    "        wind_s.append(cityweather[\"wind\"][\"speed\"])\n",
    "                    \n",
    "    except:\n",
    "        print(f'Skipping {city} due to errors.')\n"
   ]
  },
  {
   "cell_type": "code",
   "execution_count": 103,
   "metadata": {},
   "outputs": [
    {
     "name": "stdout",
     "output_type": "stream",
     "text": [
      "576\n",
      "576\n",
      "576\n",
      "576\n",
      "576\n",
      "576\n",
      "576\n"
     ]
    }
   ],
   "source": [
    "print(len(name))\n",
    "print(len(lat))\n",
    "print(len(long))\n",
    "print(len(temp))\n",
    "print(len(clouds))\n",
    "print(len(hum))\n",
    "print(len(wind_s))\n"
   ]
  },
  {
   "cell_type": "markdown",
   "metadata": {},
   "source": [
    "### Convert Raw Data to DataFrame\n",
    "* Export the city data into a .csv.\n",
    "* Display the DataFrame"
   ]
  },
  {
   "cell_type": "code",
   "execution_count": 152,
   "metadata": {},
   "outputs": [
    {
     "data": {
      "text/html": [
       "<div>\n",
       "<style scoped>\n",
       "    .dataframe tbody tr th:only-of-type {\n",
       "        vertical-align: middle;\n",
       "    }\n",
       "\n",
       "    .dataframe tbody tr th {\n",
       "        vertical-align: top;\n",
       "    }\n",
       "\n",
       "    .dataframe thead th {\n",
       "        text-align: right;\n",
       "    }\n",
       "</style>\n",
       "<table border=\"1\" class=\"dataframe\">\n",
       "  <thead>\n",
       "    <tr style=\"text-align: right;\">\n",
       "      <th></th>\n",
       "      <th>CityName</th>\n",
       "      <th>Latitude</th>\n",
       "      <th>Longitude</th>\n",
       "      <th>Temperature</th>\n",
       "      <th>Clouds</th>\n",
       "      <th>Humidity</th>\n",
       "      <th>Windspeed</th>\n",
       "    </tr>\n",
       "  </thead>\n",
       "  <tbody>\n",
       "    <tr>\n",
       "      <th>0</th>\n",
       "      <td>Zyryanka</td>\n",
       "      <td>65.75</td>\n",
       "      <td>150.85</td>\n",
       "      <td>-28.52</td>\n",
       "      <td>100</td>\n",
       "      <td>96</td>\n",
       "      <td>4.21</td>\n",
       "    </tr>\n",
       "    <tr>\n",
       "      <th>1</th>\n",
       "      <td>Hobart</td>\n",
       "      <td>-42.88</td>\n",
       "      <td>147.33</td>\n",
       "      <td>65.84</td>\n",
       "      <td>86</td>\n",
       "      <td>64</td>\n",
       "      <td>1.01</td>\n",
       "    </tr>\n",
       "    <tr>\n",
       "      <th>2</th>\n",
       "      <td>Bredasdorp</td>\n",
       "      <td>-34.53</td>\n",
       "      <td>20.04</td>\n",
       "      <td>66.13</td>\n",
       "      <td>31</td>\n",
       "      <td>68</td>\n",
       "      <td>21.92</td>\n",
       "    </tr>\n",
       "    <tr>\n",
       "      <th>3</th>\n",
       "      <td>Vaini</td>\n",
       "      <td>-21.20</td>\n",
       "      <td>-175.20</td>\n",
       "      <td>78.55</td>\n",
       "      <td>25</td>\n",
       "      <td>87</td>\n",
       "      <td>19.64</td>\n",
       "    </tr>\n",
       "    <tr>\n",
       "      <th>4</th>\n",
       "      <td>Jamestown</td>\n",
       "      <td>42.10</td>\n",
       "      <td>-79.24</td>\n",
       "      <td>35.06</td>\n",
       "      <td>100</td>\n",
       "      <td>93</td>\n",
       "      <td>4.00</td>\n",
       "    </tr>\n",
       "    <tr>\n",
       "      <th>...</th>\n",
       "      <td>...</td>\n",
       "      <td>...</td>\n",
       "      <td>...</td>\n",
       "      <td>...</td>\n",
       "      <td>...</td>\n",
       "      <td>...</td>\n",
       "      <td>...</td>\n",
       "    </tr>\n",
       "    <tr>\n",
       "      <th>571</th>\n",
       "      <td>Mariehamn</td>\n",
       "      <td>60.10</td>\n",
       "      <td>19.93</td>\n",
       "      <td>37.67</td>\n",
       "      <td>100</td>\n",
       "      <td>91</td>\n",
       "      <td>21.00</td>\n",
       "    </tr>\n",
       "    <tr>\n",
       "      <th>572</th>\n",
       "      <td>Kamaishi</td>\n",
       "      <td>39.27</td>\n",
       "      <td>141.88</td>\n",
       "      <td>31.93</td>\n",
       "      <td>88</td>\n",
       "      <td>45</td>\n",
       "      <td>2.53</td>\n",
       "    </tr>\n",
       "    <tr>\n",
       "      <th>573</th>\n",
       "      <td>Bubaque</td>\n",
       "      <td>11.28</td>\n",
       "      <td>-15.83</td>\n",
       "      <td>77.58</td>\n",
       "      <td>92</td>\n",
       "      <td>75</td>\n",
       "      <td>13.38</td>\n",
       "    </tr>\n",
       "    <tr>\n",
       "      <th>574</th>\n",
       "      <td>Punto Fijo</td>\n",
       "      <td>11.70</td>\n",
       "      <td>-70.20</td>\n",
       "      <td>78.22</td>\n",
       "      <td>6</td>\n",
       "      <td>82</td>\n",
       "      <td>15.08</td>\n",
       "    </tr>\n",
       "    <tr>\n",
       "      <th>575</th>\n",
       "      <td>Hansot</td>\n",
       "      <td>21.58</td>\n",
       "      <td>72.80</td>\n",
       "      <td>65.19</td>\n",
       "      <td>0</td>\n",
       "      <td>35</td>\n",
       "      <td>7.16</td>\n",
       "    </tr>\n",
       "  </tbody>\n",
       "</table>\n",
       "<p>576 rows × 7 columns</p>\n",
       "</div>"
      ],
      "text/plain": [
       "       CityName  Latitude  Longitude  Temperature  Clouds  Humidity  Windspeed\n",
       "0      Zyryanka     65.75     150.85       -28.52     100        96       4.21\n",
       "1        Hobart    -42.88     147.33        65.84      86        64       1.01\n",
       "2    Bredasdorp    -34.53      20.04        66.13      31        68      21.92\n",
       "3         Vaini    -21.20    -175.20        78.55      25        87      19.64\n",
       "4     Jamestown     42.10     -79.24        35.06     100        93       4.00\n",
       "..          ...       ...        ...          ...     ...       ...        ...\n",
       "571   Mariehamn     60.10      19.93        37.67     100        91      21.00\n",
       "572    Kamaishi     39.27     141.88        31.93      88        45       2.53\n",
       "573     Bubaque     11.28     -15.83        77.58      92        75      13.38\n",
       "574  Punto Fijo     11.70     -70.20        78.22       6        82      15.08\n",
       "575      Hansot     21.58      72.80        65.19       0        35       7.16\n",
       "\n",
       "[576 rows x 7 columns]"
      ]
     },
     "execution_count": 152,
     "metadata": {},
     "output_type": "execute_result"
    }
   ],
   "source": [
    "weatherdf = pd.DataFrame({\"CityName\":name,\n",
    "                          \"Latitude\":lat,\n",
    "                          \"Longitude\":long,\n",
    "                          \"Temperature\":temp,\n",
    "                          \"Clouds\":clouds,\n",
    "                          \"Humidity\":hum,\n",
    "                          \"Windspeed\":wind_s})\n",
    "weatherdf"
   ]
  },
  {
   "cell_type": "code",
   "execution_count": 156,
   "metadata": {},
   "outputs": [
    {
     "data": {
      "text/html": [
       "<div>\n",
       "<style scoped>\n",
       "    .dataframe tbody tr th:only-of-type {\n",
       "        vertical-align: middle;\n",
       "    }\n",
       "\n",
       "    .dataframe tbody tr th {\n",
       "        vertical-align: top;\n",
       "    }\n",
       "\n",
       "    .dataframe thead th {\n",
       "        text-align: right;\n",
       "    }\n",
       "</style>\n",
       "<table border=\"1\" class=\"dataframe\">\n",
       "  <thead>\n",
       "    <tr style=\"text-align: right;\">\n",
       "      <th></th>\n",
       "      <th>CityName</th>\n",
       "      <th>Latitude</th>\n",
       "      <th>Longitude</th>\n",
       "      <th>Temperature</th>\n",
       "      <th>Clouds</th>\n",
       "      <th>Humidity</th>\n",
       "      <th>Windspeed</th>\n",
       "      <th>pw</th>\n",
       "    </tr>\n",
       "  </thead>\n",
       "  <tbody>\n",
       "    <tr>\n",
       "      <th>0</th>\n",
       "      <td>Zyryanka</td>\n",
       "      <td>65.75</td>\n",
       "      <td>150.85</td>\n",
       "      <td>-28.52</td>\n",
       "      <td>100</td>\n",
       "      <td>96</td>\n",
       "      <td>4.21</td>\n",
       "      <td>26.283731</td>\n",
       "    </tr>\n",
       "    <tr>\n",
       "      <th>1</th>\n",
       "      <td>Hobart</td>\n",
       "      <td>-42.88</td>\n",
       "      <td>147.33</td>\n",
       "      <td>65.84</td>\n",
       "      <td>86</td>\n",
       "      <td>64</td>\n",
       "      <td>1.01</td>\n",
       "      <td>8.326025</td>\n",
       "    </tr>\n",
       "    <tr>\n",
       "      <th>2</th>\n",
       "      <td>Bredasdorp</td>\n",
       "      <td>-34.53</td>\n",
       "      <td>20.04</td>\n",
       "      <td>66.13</td>\n",
       "      <td>31</td>\n",
       "      <td>68</td>\n",
       "      <td>21.92</td>\n",
       "      <td>9.045226</td>\n",
       "    </tr>\n",
       "    <tr>\n",
       "      <th>3</th>\n",
       "      <td>Vaini</td>\n",
       "      <td>-21.20</td>\n",
       "      <td>-175.20</td>\n",
       "      <td>78.55</td>\n",
       "      <td>25</td>\n",
       "      <td>87</td>\n",
       "      <td>19.64</td>\n",
       "      <td>24.150875</td>\n",
       "    </tr>\n",
       "    <tr>\n",
       "      <th>4</th>\n",
       "      <td>Jamestown</td>\n",
       "      <td>42.10</td>\n",
       "      <td>-79.24</td>\n",
       "      <td>35.06</td>\n",
       "      <td>100</td>\n",
       "      <td>93</td>\n",
       "      <td>4.00</td>\n",
       "      <td>-5.857438</td>\n",
       "    </tr>\n",
       "    <tr>\n",
       "      <th>...</th>\n",
       "      <td>...</td>\n",
       "      <td>...</td>\n",
       "      <td>...</td>\n",
       "      <td>...</td>\n",
       "      <td>...</td>\n",
       "      <td>...</td>\n",
       "      <td>...</td>\n",
       "      <td>...</td>\n",
       "    </tr>\n",
       "    <tr>\n",
       "      <th>571</th>\n",
       "      <td>Mariehamn</td>\n",
       "      <td>60.10</td>\n",
       "      <td>19.93</td>\n",
       "      <td>37.67</td>\n",
       "      <td>100</td>\n",
       "      <td>91</td>\n",
       "      <td>21.00</td>\n",
       "      <td>-5.061967</td>\n",
       "    </tr>\n",
       "    <tr>\n",
       "      <th>572</th>\n",
       "      <td>Kamaishi</td>\n",
       "      <td>39.27</td>\n",
       "      <td>141.88</td>\n",
       "      <td>31.93</td>\n",
       "      <td>88</td>\n",
       "      <td>45</td>\n",
       "      <td>2.53</td>\n",
       "      <td>-3.132149</td>\n",
       "    </tr>\n",
       "    <tr>\n",
       "      <th>573</th>\n",
       "      <td>Bubaque</td>\n",
       "      <td>11.28</td>\n",
       "      <td>-15.83</td>\n",
       "      <td>77.58</td>\n",
       "      <td>92</td>\n",
       "      <td>75</td>\n",
       "      <td>13.38</td>\n",
       "      <td>19.870720</td>\n",
       "    </tr>\n",
       "    <tr>\n",
       "      <th>574</th>\n",
       "      <td>Punto Fijo</td>\n",
       "      <td>11.70</td>\n",
       "      <td>-70.20</td>\n",
       "      <td>78.22</td>\n",
       "      <td>6</td>\n",
       "      <td>82</td>\n",
       "      <td>15.08</td>\n",
       "      <td>22.407781</td>\n",
       "    </tr>\n",
       "    <tr>\n",
       "      <th>575</th>\n",
       "      <td>Hansot</td>\n",
       "      <td>21.58</td>\n",
       "      <td>72.80</td>\n",
       "      <td>65.19</td>\n",
       "      <td>0</td>\n",
       "      <td>35</td>\n",
       "      <td>7.16</td>\n",
       "      <td>4.326543</td>\n",
       "    </tr>\n",
       "  </tbody>\n",
       "</table>\n",
       "<p>576 rows × 8 columns</p>\n",
       "</div>"
      ],
      "text/plain": [
       "       CityName  Latitude  Longitude  Temperature  Clouds  Humidity  \\\n",
       "0      Zyryanka     65.75     150.85       -28.52     100        96   \n",
       "1        Hobart    -42.88     147.33        65.84      86        64   \n",
       "2    Bredasdorp    -34.53      20.04        66.13      31        68   \n",
       "3         Vaini    -21.20    -175.20        78.55      25        87   \n",
       "4     Jamestown     42.10     -79.24        35.06     100        93   \n",
       "..          ...       ...        ...          ...     ...       ...   \n",
       "571   Mariehamn     60.10      19.93        37.67     100        91   \n",
       "572    Kamaishi     39.27     141.88        31.93      88        45   \n",
       "573     Bubaque     11.28     -15.83        77.58      92        75   \n",
       "574  Punto Fijo     11.70     -70.20        78.22       6        82   \n",
       "575      Hansot     21.58      72.80        65.19       0        35   \n",
       "\n",
       "     Windspeed         pw  \n",
       "0         4.21  26.283731  \n",
       "1         1.01   8.326025  \n",
       "2        21.92   9.045226  \n",
       "3        19.64  24.150875  \n",
       "4         4.00  -5.857438  \n",
       "..         ...        ...  \n",
       "571      21.00  -5.061967  \n",
       "572       2.53  -3.132149  \n",
       "573      13.38  19.870720  \n",
       "574      15.08  22.407781  \n",
       "575       7.16   4.326543  \n",
       "\n",
       "[576 rows x 8 columns]"
      ]
     },
     "execution_count": 156,
     "metadata": {},
     "output_type": "execute_result"
    }
   ],
   "source": [
    "vapor = pd.read_csv(\"vaporpressure.csv\")\n",
    "vapor\n",
    "\n",
    "def interpolate(val):\n",
    "    Psat = np.polyfit(vapor[\"TempF\"],vapor[\"Psat\"],2)\n",
    "    return Psat[0]*val**2 + Psat[1]*val + Psat[0]\n",
    "\n",
    "weatherdf[\"pw\"] = interpolate(weatherdf[\"Temperature\"])*(weatherdf[\"Humidity\"]/100)\n",
    "weatherdf"
   ]
  },
  {
   "cell_type": "code",
   "execution_count": 153,
   "metadata": {},
   "outputs": [],
   "source": [
    "xaxis=np.arange(weatherdf[\"Temperature\"].min(),weatherdf[\"Temperature\"].max())\n",
    "fit = np.polyfit(weatherdf[\"Latitude\"],weatherdf[\"Temperature\"],2)\n",
    "yfit = [(fit[0]*x**2 + fit[1]*x+fit[2]) for x in xaxis]"
   ]
  },
  {
   "cell_type": "markdown",
   "metadata": {},
   "source": [
    "### Plotting the Data\n",
    "* Use proper labeling of the plots using plot titles (including date of analysis) and axes labels.\n",
    "* Save the plotted figures as .pngs."
   ]
  },
  {
   "cell_type": "markdown",
   "metadata": {},
   "source": [
    "#### Latitude vs. Temperature Plot"
   ]
  },
  {
   "cell_type": "code",
   "execution_count": 138,
   "metadata": {
    "scrolled": true
   },
   "outputs": [
    {
     "data": {
      "image/png": "[encoded data removed]",
      "text/plain": [
       "<Figure size 432x288 with 1 Axes>"
      ]
     },
     "metadata": {
      "needs_background": "light"
     },
     "output_type": "display_data"
    }
   ],
   "source": [
    "plt.scatter(weatherdf[\"Latitude\"],weatherdf[\"Temperature\"], label = \"Temperature Data\")\n",
    "plt.scatter(xaxis,yfit,color = 'red', label = \"2nd Order Polyfit\")\n",
    "plt.title(\"Temperature vs. Latitude (1/25/20)\")\n",
    "plt.xlabel(\"Latitude\")\n",
    "plt.ylabel(\"Temperature (degF)\")\n",
    "plt.legend(loc = 'best')\n",
    "plt.xlim(weatherdf[\"Latitude\"].min()*1.1,weatherdf[\"Latitude\"].max()*1.1)\n",
    "plt.show()"
   ]
  },
  {
   "cell_type": "markdown",
   "metadata": {},
   "source": [
    "#### Latitude vs. Humidity Plot"
   ]
  },
  {
   "cell_type": "code",
   "execution_count": 119,
   "metadata": {
    "scrolled": true
   },
   "outputs": [
    {
     "data": {
      "image/png": "[encoded data removed]",
      "text/plain": [
       "<Figure size 432x288 with 1 Axes>"
      ]
     },
     "metadata": {
      "needs_background": "light"
     },
     "output_type": "display_data"
    }
   ],
   "source": [
    "plt.scatter(weatherdf[\"Latitude\"],weatherdf[\"Humidity\"])\n",
    "plt.title(\"Relative Humidity vs. Latitude (1/25/20)\")\n",
    "plt.xlabel(\"Latitude\")\n",
    "plt.ylabel(\"Relative Humidity (%)\")\n",
    "plt.xlim(weatherdf[\"Latitude\"].min()*1.1,weatherdf[\"Latitude\"].max()*1.1)\n",
    "plt.show()"
   ]
  },
  {
   "cell_type": "code",
   "execution_count": 164,
   "metadata": {},
   "outputs": [
    {
     "data": {
      "image/png": "[encoded data removed]",
      "text/plain": [
       "<Figure size 432x288 with 1 Axes>"
      ]
     },
     "metadata": {
      "needs_background": "light"
     },
     "output_type": "display_data"
    }
   ],
   "source": [
    "plt.scatter(weatherdf[\"Latitude\"],weatherdf[\"pw\"])\n",
    "plt.title(\"Specific Humidity vs. Latitude (1/25/20)\")\n",
    "plt.xlabel(\"Latitude\")\n",
    "plt.ylabel(\"Vapor Pressure (bar x 10e-3)\")\n",
    "plt.xlim(weatherdf[\"Latitude\"].min()*1.1,weatherdf[\"Latitude\"].max()*1.1)\n",
    "plt.show()"
   ]
  },
  {
   "cell_type": "markdown",
   "metadata": {},
   "source": [
    "#### Latitude vs. Cloudiness Plot"
   ]
  },
  {
   "cell_type": "code",
   "execution_count": 120,
   "metadata": {},
   "outputs": [
    {
     "data": {
      "image/png": "[encoded data removed]",
      "text/plain": [
       "<Figure size 432x288 with 1 Axes>"
      ]
     },
     "metadata": {
      "needs_background": "light"
     },
     "output_type": "display_data"
    }
   ],
   "source": [
    "plt.scatter(weatherdf[\"Latitude\"],weatherdf[\"Clouds\"])\n",
    "plt.title(\"Cloud Cover vs. Latitude (1/25/20)\")\n",
    "plt.xlabel(\"Latitude\")\n",
    "plt.ylabel(\"Cloud Cover (%)\")\n",
    "plt.xlim(weatherdf[\"Latitude\"].min()*1.1,weatherdf[\"Latitude\"].max()*1.1)\n",
    "plt.show()"
   ]
  },
  {
   "cell_type": "markdown",
   "metadata": {},
   "source": [
    "#### Latitude vs. Wind Speed Plot"
   ]
  },
  {
   "cell_type": "code",
   "execution_count": 122,
   "metadata": {},
   "outputs": [
    {
     "data": {
      "image/png": "[encoded data removed]",
      "text/plain": [
       "<Figure size 432x288 with 1 Axes>"
      ]
     },
     "metadata": {
      "needs_background": "light"
     },
     "output_type": "display_data"
    }
   ],
   "source": [
    "plt.scatter(weatherdf[\"Latitude\"],weatherdf[\"Windspeed\"])\n",
    "plt.title(\"Windspeed vs. Latitude (1/25/20)\")\n",
    "plt.xlabel(\"Latitude\")\n",
    "plt.ylabel(\"Windspeed (mph)\")\n",
    "plt.xlim(weatherdf[\"Latitude\"].min()*1.1,weatherdf[\"Latitude\"].max()*1.1)\n",
    "plt.show()"
   ]
  },
  {
   "cell_type": "markdown",
   "metadata": {},
   "source": [
    "## Linear Regression"
   ]
  },
  {
   "cell_type": "code",
   "execution_count": 222,
   "metadata": {},
   "outputs": [],
   "source": [
    "#make a function that takes 5 arguments as inputs: DF x vals, DF y vals, x label, y label, plot title\n",
    "#function performs least squares linear regression using linregress from numpy\n",
    "#plot is labelled according to args and linear regression stats\n",
    "#this function will be used to complete the repetitive plotting activity further down in the workbook\n",
    "\n",
    "def plotter(args):\n",
    "    if len(args) != 5:\n",
    "        print(\"You forgot something!\")\n",
    "    #split out out arguments\n",
    "    xvar = args[0]\n",
    "    yvar = args[1]\n",
    "    xlabel = args[2]\n",
    "    ylabel = args[3]\n",
    "    thistitle = args[4]\n",
    "    \n",
    "    #linear regression\n",
    "    xmin = xvar.min()\n",
    "    xmax = xvar.max()\n",
    "    xaxis = np.arange(xmin,xmax)\n",
    "    line = linregress(xvar,yvar)\n",
    "    linefit = [x*line[0]+line[1] for x in xaxis]\n",
    "    \n",
    "    #plotting functions\n",
    "    fig1 = plt.scatter(xvar,yvar,color = \"blue\", label = thistitle)\n",
    "    fig1 = plt.scatter(xaxis,linefit,color = \"red\", label = f'Slope: {\"{:.2f}\".format(line[0])}, Int: {\"{:.2f}\".format(line[1])}, r^2: {\"{:.2f}\".format(line[2]**2)}')\n",
    "    plt.xlabel(xlabel)\n",
    "    plt.ylabel(ylabel)\n",
    "    plt.legend(loc = \"best\")\n",
    "    plt.title(thistitle)\n",
    "    \n",
    "    #the result is the plot!\n",
    "    return plt.show()\n",
    "    "
   ]
  },
  {
   "cell_type": "code",
   "execution_count": 223,
   "metadata": {
    "scrolled": false
   },
   "outputs": [
    {
     "data": {
      "text/html": [
       "<div>\n",
       "<style scoped>\n",
       "    .dataframe tbody tr th:only-of-type {\n",
       "        vertical-align: middle;\n",
       "    }\n",
       "\n",
       "    .dataframe tbody tr th {\n",
       "        vertical-align: top;\n",
       "    }\n",
       "\n",
       "    .dataframe thead th {\n",
       "        text-align: right;\n",
       "    }\n",
       "</style>\n",
       "<table border=\"1\" class=\"dataframe\">\n",
       "  <thead>\n",
       "    <tr style=\"text-align: right;\">\n",
       "      <th></th>\n",
       "      <th>CityName</th>\n",
       "      <th>Latitude</th>\n",
       "      <th>Longitude</th>\n",
       "      <th>Temperature</th>\n",
       "      <th>Clouds</th>\n",
       "      <th>Humidity</th>\n",
       "      <th>Windspeed</th>\n",
       "      <th>pw</th>\n",
       "    </tr>\n",
       "  </thead>\n",
       "  <tbody>\n",
       "    <tr>\n",
       "      <th>0</th>\n",
       "      <td>Zyryanka</td>\n",
       "      <td>65.75</td>\n",
       "      <td>150.85</td>\n",
       "      <td>-28.52</td>\n",
       "      <td>100</td>\n",
       "      <td>96</td>\n",
       "      <td>4.21</td>\n",
       "      <td>26.283731</td>\n",
       "    </tr>\n",
       "    <tr>\n",
       "      <th>4</th>\n",
       "      <td>Jamestown</td>\n",
       "      <td>42.10</td>\n",
       "      <td>-79.24</td>\n",
       "      <td>35.06</td>\n",
       "      <td>100</td>\n",
       "      <td>93</td>\n",
       "      <td>4.00</td>\n",
       "      <td>-5.857438</td>\n",
       "    </tr>\n",
       "    <tr>\n",
       "      <th>6</th>\n",
       "      <td>Barrow</td>\n",
       "      <td>71.29</td>\n",
       "      <td>-156.79</td>\n",
       "      <td>-31.00</td>\n",
       "      <td>1</td>\n",
       "      <td>97</td>\n",
       "      <td>9.17</td>\n",
       "      <td>29.780195</td>\n",
       "    </tr>\n",
       "    <tr>\n",
       "      <th>7</th>\n",
       "      <td>Kapaa</td>\n",
       "      <td>22.08</td>\n",
       "      <td>-159.32</td>\n",
       "      <td>77.00</td>\n",
       "      <td>74</td>\n",
       "      <td>70</td>\n",
       "      <td>1.01</td>\n",
       "      <td>18.024108</td>\n",
       "    </tr>\n",
       "    <tr>\n",
       "      <th>8</th>\n",
       "      <td>Chokurdakh</td>\n",
       "      <td>70.63</td>\n",
       "      <td>147.92</td>\n",
       "      <td>-26.25</td>\n",
       "      <td>85</td>\n",
       "      <td>82</td>\n",
       "      <td>4.25</td>\n",
       "      <td>20.065461</td>\n",
       "    </tr>\n",
       "  </tbody>\n",
       "</table>\n",
       "</div>"
      ],
      "text/plain": [
       "     CityName  Latitude  Longitude  Temperature  Clouds  Humidity  Windspeed  \\\n",
       "0    Zyryanka     65.75     150.85       -28.52     100        96       4.21   \n",
       "4   Jamestown     42.10     -79.24        35.06     100        93       4.00   \n",
       "6      Barrow     71.29    -156.79       -31.00       1        97       9.17   \n",
       "7       Kapaa     22.08    -159.32        77.00      74        70       1.01   \n",
       "8  Chokurdakh     70.63     147.92       -26.25      85        82       4.25   \n",
       "\n",
       "          pw  \n",
       "0  26.283731  \n",
       "4  -5.857438  \n",
       "6  29.780195  \n",
       "7  18.024108  \n",
       "8  20.065461  "
      ]
     },
     "execution_count": 223,
     "metadata": {},
     "output_type": "execute_result"
    }
   ],
   "source": [
    "# Create Northern and Southern Hemisphere DataFrames\n",
    "nhdf = weatherdf.loc[(weatherdf[\"Latitude\"] > 0) ]\n",
    "nhdf.head()"
   ]
  },
  {
   "cell_type": "code",
   "execution_count": 224,
   "metadata": {},
   "outputs": [
    {
     "data": {
      "text/html": [
       "<div>\n",
       "<style scoped>\n",
       "    .dataframe tbody tr th:only-of-type {\n",
       "        vertical-align: middle;\n",
       "    }\n",
       "\n",
       "    .dataframe tbody tr th {\n",
       "        vertical-align: top;\n",
       "    }\n",
       "\n",
       "    .dataframe thead th {\n",
       "        text-align: right;\n",
       "    }\n",
       "</style>\n",
       "<table border=\"1\" class=\"dataframe\">\n",
       "  <thead>\n",
       "    <tr style=\"text-align: right;\">\n",
       "      <th></th>\n",
       "      <th>CityName</th>\n",
       "      <th>Latitude</th>\n",
       "      <th>Longitude</th>\n",
       "      <th>Temperature</th>\n",
       "      <th>Clouds</th>\n",
       "      <th>Humidity</th>\n",
       "      <th>Windspeed</th>\n",
       "      <th>pw</th>\n",
       "    </tr>\n",
       "  </thead>\n",
       "  <tbody>\n",
       "    <tr>\n",
       "      <th>1</th>\n",
       "      <td>Hobart</td>\n",
       "      <td>-42.88</td>\n",
       "      <td>147.33</td>\n",
       "      <td>65.84</td>\n",
       "      <td>86</td>\n",
       "      <td>64</td>\n",
       "      <td>1.01</td>\n",
       "      <td>8.326025</td>\n",
       "    </tr>\n",
       "    <tr>\n",
       "      <th>2</th>\n",
       "      <td>Bredasdorp</td>\n",
       "      <td>-34.53</td>\n",
       "      <td>20.04</td>\n",
       "      <td>66.13</td>\n",
       "      <td>31</td>\n",
       "      <td>68</td>\n",
       "      <td>21.92</td>\n",
       "      <td>9.045226</td>\n",
       "    </tr>\n",
       "    <tr>\n",
       "      <th>3</th>\n",
       "      <td>Vaini</td>\n",
       "      <td>-21.20</td>\n",
       "      <td>-175.20</td>\n",
       "      <td>78.55</td>\n",
       "      <td>25</td>\n",
       "      <td>87</td>\n",
       "      <td>19.64</td>\n",
       "      <td>24.150875</td>\n",
       "    </tr>\n",
       "    <tr>\n",
       "      <th>5</th>\n",
       "      <td>Rikitea</td>\n",
       "      <td>-23.12</td>\n",
       "      <td>-134.97</td>\n",
       "      <td>79.25</td>\n",
       "      <td>18</td>\n",
       "      <td>77</td>\n",
       "      <td>14.03</td>\n",
       "      <td>22.089056</td>\n",
       "    </tr>\n",
       "    <tr>\n",
       "      <th>15</th>\n",
       "      <td>Castro</td>\n",
       "      <td>-24.79</td>\n",
       "      <td>-50.01</td>\n",
       "      <td>65.70</td>\n",
       "      <td>9</td>\n",
       "      <td>72</td>\n",
       "      <td>3.38</td>\n",
       "      <td>9.265680</td>\n",
       "    </tr>\n",
       "  </tbody>\n",
       "</table>\n",
       "</div>"
      ],
      "text/plain": [
       "      CityName  Latitude  Longitude  Temperature  Clouds  Humidity  Windspeed  \\\n",
       "1       Hobart    -42.88     147.33        65.84      86        64       1.01   \n",
       "2   Bredasdorp    -34.53      20.04        66.13      31        68      21.92   \n",
       "3        Vaini    -21.20    -175.20        78.55      25        87      19.64   \n",
       "5      Rikitea    -23.12    -134.97        79.25      18        77      14.03   \n",
       "15      Castro    -24.79     -50.01        65.70       9        72       3.38   \n",
       "\n",
       "           pw  \n",
       "1    8.326025  \n",
       "2    9.045226  \n",
       "3   24.150875  \n",
       "5   22.089056  \n",
       "15   9.265680  "
      ]
     },
     "execution_count": 224,
     "metadata": {},
     "output_type": "execute_result"
    }
   ],
   "source": [
    "shdf = weatherdf.loc[(weatherdf[\"Latitude\"] < 0) ]\n",
    "shdf.head()    "
   ]
  },
  {
   "cell_type": "markdown",
   "metadata": {},
   "source": [
    "####  Northern Hemisphere - Max Temp vs. Latitude Linear Regression"
   ]
  },
  {
   "cell_type": "code",
   "execution_count": 225,
   "metadata": {},
   "outputs": [
    {
     "data": {
      "image/png": "[encoded data removed]",
      "text/plain": [
       "<Figure size 432x288 with 1 Axes>"
      ]
     },
     "metadata": {
      "needs_background": "light"
     },
     "output_type": "display_data"
    }
   ],
   "source": [
    "plotter([nhdf[\"Latitude\"],\n",
    "         nhdf[\"Temperature\"],\n",
    "         \"Latitude\",\n",
    "         \"Temperature (degF)\",\n",
    "         \"Northern Hemisphere Temps\"])"
   ]
  },
  {
   "cell_type": "code",
   "execution_count": null,
   "metadata": {},
   "outputs": [],
   "source": [
    "#There is a fairly clear trend toward decreasing temperatures as latitudes increase in the Northern Hemisphere.\n",
    "#There is less scatter in the data at lower latitudes (i.e closer to the Equator), more scatter at higher latitudes.\n",
    "#An r-squared value of 0.73 indicates a fairly strong relationship\n",
    "#Altitude or proximity to other major driving forces in weather (bodies of water, mountains etc.) is not considered here\n",
    "#   but is likely a major source of the scatter in the data\n"
   ]
  },
  {
   "cell_type": "markdown",
   "metadata": {},
   "source": [
    "####  Southern Hemisphere - Max Temp vs. Latitude Linear Regression"
   ]
  },
  {
   "cell_type": "code",
   "execution_count": 198,
   "metadata": {
    "scrolled": true
   },
   "outputs": [
    {
     "data": {
      "image/png": "[encoded data removed]",
      "text/plain": [
       "<Figure size 432x288 with 1 Axes>"
      ]
     },
     "metadata": {
      "needs_background": "light"
     },
     "output_type": "display_data"
    }
   ],
   "source": [
    "plotter([shdf[\"Latitude\"],\n",
    "         shdf[\"Temperature\"],\n",
    "         \"Latitude\",\n",
    "         \"Temperature (degF)\",\n",
    "         \"Temperature vs. Latitude (Southern Hemisphere)\"])"
   ]
  },
  {
   "cell_type": "code",
   "execution_count": null,
   "metadata": {},
   "outputs": [],
   "source": [
    "#In the southern hemisphere cities sampled there is a weaker relationship between temperature and latitude than with the northern hemisphere\n",
    "#There is still a trend toward higher temps at latitudes closer to the equator"
   ]
  },
  {
   "cell_type": "markdown",
   "metadata": {},
   "source": [
    "####  Northern Hemisphere - Humidity (%) vs. Latitude Linear Regression"
   ]
  },
  {
   "cell_type": "code",
   "execution_count": 201,
   "metadata": {},
   "outputs": [
    {
     "data": {
      "image/png": "[encoded data removed]",
      "text/plain": [
       "<Figure size 432x288 with 1 Axes>"
      ]
     },
     "metadata": {
      "needs_background": "light"
     },
     "output_type": "display_data"
    }
   ],
   "source": [
    "plotter([nhdf[\"Latitude\"],\n",
    "         nhdf[\"Humidity\"],\n",
    "         \"Latitude\",\n",
    "         \"Relative Humidity (%)\",\n",
    "         \"Northern Hemisphere Humidity\"])"
   ]
  },
  {
   "cell_type": "code",
   "execution_count": null,
   "metadata": {},
   "outputs": [],
   "source": [
    "#Relative humidity is not really worth studying because it is so dependent on other air properties.\n",
    "#Temperature has an enormous effect on relative humidity (i.e as temperature increases the saturation water vapor pressure increases)\n",
    "#We would generally expect the largest absolute humidity around the tropics"
   ]
  },
  {
   "cell_type": "markdown",
   "metadata": {},
   "source": [
    "####  Southern Hemisphere - Humidity (%) vs. Latitude Linear Regression"
   ]
  },
  {
   "cell_type": "code",
   "execution_count": 202,
   "metadata": {},
   "outputs": [
    {
     "data": {
      "image/png": "[encoded data removed]",
      "text/plain": [
       "<Figure size 432x288 with 1 Axes>"
      ]
     },
     "metadata": {
      "needs_background": "light"
     },
     "output_type": "display_data"
    }
   ],
   "source": [
    "plotter([shdf[\"Latitude\"],\n",
    "         shdf[\"Humidity\"],\n",
    "         \"Latitude\",\n",
    "         \"Relative Humidity (%)\",\n",
    "         \"Southern Hemisphere Humidity\"])"
   ]
  },
  {
   "cell_type": "code",
   "execution_count": null,
   "metadata": {},
   "outputs": [],
   "source": [
    "#The Southern Hemisphere data also shows a very weak correlation between humidity and latitude.\n",
    "#Again, relative humidity is a very poor measure of climate without also considering ambient temp."
   ]
  },
  {
   "cell_type": "markdown",
   "metadata": {},
   "source": [
    "####  Northern Hemisphere - Cloudiness (%) vs. Latitude Linear Regression"
   ]
  },
  {
   "cell_type": "code",
   "execution_count": 203,
   "metadata": {},
   "outputs": [
    {
     "data": {
      "image/png": "[encoded data removed]",
      "text/plain": [
       "<Figure size 432x288 with 1 Axes>"
      ]
     },
     "metadata": {
      "needs_background": "light"
     },
     "output_type": "display_data"
    }
   ],
   "source": [
    "plotter([nhdf[\"Latitude\"],\n",
    "         nhdf[\"Clouds\"],\n",
    "         \"Latitude\",\n",
    "         \"Cloud Cover (%)\",\n",
    "         \"Northern Hemisphere Cloud Cover\"])"
   ]
  },
  {
   "cell_type": "code",
   "execution_count": null,
   "metadata": {},
   "outputs": [],
   "source": [
    "#The cloud cover data presented here shows no correlation between cloudiness and latitude. There are concentrations of\n",
    "#  both extremes of cloud cover % are seen across the full latitude range, with random scatter in between."
   ]
  },
  {
   "cell_type": "markdown",
   "metadata": {},
   "source": [
    "####  Southern Hemisphere - Cloudiness (%) vs. Latitude Linear Regression"
   ]
  },
  {
   "cell_type": "code",
   "execution_count": 204,
   "metadata": {
    "scrolled": true
   },
   "outputs": [
    {
     "data": {
      "image/png": "[encoded data removed]",
      "text/plain": [
       "<Figure size 432x288 with 1 Axes>"
      ]
     },
     "metadata": {
      "needs_background": "light"
     },
     "output_type": "display_data"
    }
   ],
   "source": [
    "plotter([shdf[\"Latitude\"],\n",
    "         shdf[\"Clouds\"],\n",
    "         \"Latitude\",\n",
    "         \"Cloud Cover (%)\",\n",
    "         \"Southern Hemisphere Cloud Cover\"])"
   ]
  },
  {
   "cell_type": "code",
   "execution_count": null,
   "metadata": {},
   "outputs": [],
   "source": [
    "#It appears as though the cloudiest areas in the southern hemisphere right now are at the highest latitudes (i.e closer to the equator),\n",
    "#   while the tropics are experiencing few clouds, but overall there is not a strong correlation between cloudiness and latitude\n",
    "#   in either hemisphere\n"
   ]
  },
  {
   "cell_type": "markdown",
   "metadata": {},
   "source": [
    "####  Northern Hemisphere - Wind Speed (mph) vs. Latitude Linear Regression"
   ]
  },
  {
   "cell_type": "code",
   "execution_count": 205,
   "metadata": {
    "scrolled": true
   },
   "outputs": [
    {
     "data": {
      "image/png": "[encoded data removed]",
      "text/plain": [
       "<Figure size 432x288 with 1 Axes>"
      ]
     },
     "metadata": {
      "needs_background": "light"
     },
     "output_type": "display_data"
    }
   ],
   "source": [
    "plotter([nhdf[\"Latitude\"],\n",
    "         nhdf[\"Windspeed\"],\n",
    "         \"Latitude\",\n",
    "         \"Windspeed (mph)\",\n",
    "         \"Northern Hemisphere Wind Speed\"])"
   ]
  },
  {
   "cell_type": "code",
   "execution_count": null,
   "metadata": {},
   "outputs": [],
   "source": [
    "#there is absolutely no correlation between wind speed and latitude in either hemisphere, \n",
    "#though there is more scatter in the data closer to the poles"
   ]
  },
  {
   "cell_type": "markdown",
   "metadata": {},
   "source": [
    "####  Southern Hemisphere - Wind Speed (mph) vs. Latitude Linear Regression"
   ]
  },
  {
   "cell_type": "code",
   "execution_count": 207,
   "metadata": {},
   "outputs": [
    {
     "data": {
      "image/png": "[encoded data removed]",
      "text/plain": [
       "<Figure size 432x288 with 1 Axes>"
      ]
     },
     "metadata": {
      "needs_background": "light"
     },
     "output_type": "display_data"
    }
   ],
   "source": [
    "plotter([shdf[\"Latitude\"],\n",
    "         shdf[\"Windspeed\"],\n",
    "         \"Latitude\",\n",
    "         \"Windspeed (mph)\",\n",
    "         \"Southern Hemisphere Wind Speed\"])"
   ]
  },
  {
   "cell_type": "code",
   "execution_count": null,
   "metadata": {},
   "outputs": [],
   "source": [
    "#there is absolutely no correlation between wind speed and latitude in either hemisphere, \n",
    "#though there is more scatter in the data closer to the poles"
   ]
  },
  {
   "cell_type": "code",
   "execution_count": 228,
   "metadata": {},
   "outputs": [],
   "source": [
    "#export data to a file called weatherdatabycity.csv\n",
    "weatherdf.to_csv(\"weatherdatabycity.csv\")"
   ]
  }
 ],
 "metadata": {
  "anaconda-cloud": {},
  "kernel_info": {
   "name": "python3"
  },
  "kernelspec": {
   "display_name": "Python 3",
   "language": "python",
   "name": "python3"
  },
  "language_info": {
   "codemirror_mode": {
    "name": "ipython",
    "version": 3
   },
   "file_extension": ".py",
   "mimetype": "text/x-python",
   "name": "python",
   "nbconvert_exporter": "python",
   "pygments_lexer": "ipython3",
   "version": "3.6.2"
  },
  "latex_envs": {
   "LaTeX_envs_menu_present": true,
   "autoclose": false,
   "autocomplete": true,
   "bibliofile": "biblio.bib",
   "cite_by": "apalike",
   "current_citInitial": 1,
   "eqLabelWithNumbers": true,
   "eqNumInitial": 1,
   "hotkeys": {
    "equation": "Ctrl-E",
    "itemize": "Ctrl-I"
   },
   "labels_anchors": false,
   "latex_user_defs": false,
   "report_style_numbering": false,
   "user_envs_cfg": false
  },
  "nteract": {
   "version": "0.12.3"
  }
 },
 "nbformat": 4,
 "nbformat_minor": 2
}
